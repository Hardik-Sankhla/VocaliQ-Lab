{
 "cells": [
  {
   "cell_type": "markdown",
   "id": "30f47824",
   "metadata": {},
   "source": [
    "#  Jupyter Notebook - demo.ipynb\n",
    "##  Demonstrates basic speech recognition using a pre-recorded audio file."
   ]
  },
  {
   "cell_type": "code",
   "execution_count": 1,
   "id": "a528822d",
   "metadata": {},
   "outputs": [
    {
     "name": "stdout",
     "output_type": "stream",
     "text": [
      "Audio file not found.  Please upload samples/input_audio.wav to the 'samples' directory, or replace with your own audio file path.\n",
      "Error reading the audio file: Error opening 'samples/input_audio.wav': System error.\n"
     ]
    },
    {
     "ename": "NameError",
     "evalue": "name 'audio_data' is not defined",
     "output_type": "error",
     "traceback": [
      "\u001b[31m---------------------------------------------------------------------------\u001b[39m",
      "\u001b[31mNameError\u001b[39m                                 Traceback (most recent call last)",
      "\u001b[36mCell\u001b[39m\u001b[36m \u001b[39m\u001b[32mIn[1]\u001b[39m\u001b[32m, line 27\u001b[39m\n\u001b[32m     24\u001b[39m     audio_data, samplerate = \u001b[38;5;28;01mNone\u001b[39;00m, \u001b[38;5;28;01mNone\u001b[39;00m\n\u001b[32m     26\u001b[39m \u001b[38;5;66;03m# 3. Process and Recognize\u001b[39;00m\n\u001b[32m---> \u001b[39m\u001b[32m27\u001b[39m \u001b[38;5;28;01mif\u001b[39;00m \u001b[43maudio_data\u001b[49m \u001b[38;5;129;01mis\u001b[39;00m \u001b[38;5;129;01mnot\u001b[39;00m \u001b[38;5;28;01mNone\u001b[39;00m \u001b[38;5;129;01mand\u001b[39;00m samplerate \u001b[38;5;129;01mis\u001b[39;00m \u001b[38;5;129;01mnot\u001b[39;00m \u001b[38;5;28;01mNone\u001b[39;00m: \u001b[38;5;66;03m# only proceed if audio was read\u001b[39;00m\n\u001b[32m     28\u001b[39m     \u001b[38;5;66;03m# Ensure audio_data is 1D (mono)\u001b[39;00m\n\u001b[32m     29\u001b[39m     \u001b[38;5;28;01mif\u001b[39;00m audio_data.ndim > \u001b[32m1\u001b[39m:\n\u001b[32m     30\u001b[39m         audio_data = audio_data[:, \u001b[32m0\u001b[39m]\n",
      "\u001b[31mNameError\u001b[39m: name 'audio_data' is not defined"
     ]
    }
   ],
   "source": [
    "import speech_recognition as sr\n",
    "import soundfile as sf\n",
    "import IPython.display as ipd  # For playing audio in the notebook\n",
    "import os\n",
    "\n",
    "# 1.  Load and Play Audio (if available)\n",
    "audio_file = \"samples/input_audio.wav\"  # Or replace with your audio file.\n",
    "if os.path.exists(audio_file):\n",
    "    print(f\"Playing audio file: {audio_file}\")\n",
    "    ipd.display(ipd.Audio(audio_file))\n",
    "else:\n",
    "    print(f\"Audio file not found.  Please upload {audio_file} to the 'samples' directory, or replace with your own audio file path.\")\n",
    "\n",
    "# 2.  Read Audio File\n",
    "try:\n",
    "    audio_data, samplerate = sf.read(audio_file)\n",
    "except sf.LibsndfileError as e:\n",
    "    print(f\"Error reading the audio file: {e}\")\n",
    "except FileNotFoundError:\n",
    "    print(f\"Error:  File Not Found.  Make sure the audio file is in the correct directory.\")\n",
    "    audio_data, samplerate = None, None\n",
    "except Exception as e:\n",
    "    print(f\"An unexpected error occurred: {e}\")\n",
    "    audio_data, samplerate = None, None\n",
    "\n",
    "# 3. Process and Recognize\n",
    "if audio_data is not None and samplerate is not None: # only proceed if audio was read\n",
    "    # Ensure audio_data is 1D (mono)\n",
    "    if audio_data.ndim > 1:\n",
    "        audio_data = audio_data[:, 0]\n",
    "\n",
    "    audio_obj = sr.AudioData(audio_data.tobytes(), samplerate, 2)  # Create AudioData\n",
    "\n",
    "    recognizer = sr.Recognizer()  # Initialize recognizer\n",
    "\n",
    "    try:\n",
    "        text = recognizer.recognize_google(audio_obj)\n",
    "        print(f\"The notebook thinks you said: {text}\")\n",
    "    except sr.UnknownValueError:\n",
    "        print(\"Google Speech Recognition could not understand audio\")\n",
    "    except sr.RequestError as e:\n",
    "        print(f\"Could not request results from Google Speech Recognition service; {e}\")\n"
   ]
  },
  {
   "cell_type": "code",
   "execution_count": null,
   "id": "8afb92b1",
   "metadata": {},
   "outputs": [],
   "source": []
  }
 ],
 "metadata": {
  "kernelspec": {
   "display_name": "VocaliQEnv",
   "language": "python",
   "name": "python3"
  },
  "language_info": {
   "codemirror_mode": {
    "name": "ipython",
    "version": 3
   },
   "file_extension": ".py",
   "mimetype": "text/x-python",
   "name": "python",
   "nbconvert_exporter": "python",
   "pygments_lexer": "ipython3",
   "version": "3.12.10"
  }
 },
 "nbformat": 4,
 "nbformat_minor": 5
}
